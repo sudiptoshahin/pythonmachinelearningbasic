{
 "cells": [
  {
   "cell_type": "code",
   "execution_count": null,
   "metadata": {},
   "outputs": [],
   "source": [
    "\n",
    "\"\"\" \n",
    "input() and raw_input() both function take a string as\n",
    "an argument and displays it as promot in shell. it waits for \n",
    "the user to hit enter\n",
    "\n",
    "for raw_input(), input line is treated as string and becomes \n",
    "the value returend by the function\n",
    "nput treats the typed line as a Python\n",
    "expression and infers a type.\n",
    "\n",
    "input() takes only the type value of input\n",
    "\"\"\"\n",
    "\n",
    "# name1 = input('Enter your name: ')\n",
    "# print(\"Your name: \", name1)\n",
    "\n",
    "## it will show error in editor but in IDLE dont\n",
    "# name2 = raw_input('Enter your name:~')\n",
    "# print(\"Your name is\" +name2);\n",
    "\n",
    "\n",
    "## square the integer\n",
    "x = 2\n",
    "ans = 0\n",
    "itersLeft = x\n",
    "\n",
    "while (itersLeft != 0):\n",
    "    ans = ans + x\n",
    "    itersLeft = itersLeft - 1\n",
    "print (str(x) + \"*\" + str(x) +\"=\"+ str(ans))\n",
    "\n",
    "\n"
   ]
  },
  {
   "cell_type": "code",
   "execution_count": 8,
   "metadata": {},
   "outputs": [
    {
     "name": "stdout",
     "output_type": "stream",
     "text": [
      "Enter 10 integers: 1 2 3 4 5 6 7 8 9 10\n"
     ]
    },
    {
     "ename": "ValueError",
     "evalue": "invalid literal for int() with base 10: '1 2 3 4 5 6 7 8 9 10'",
     "output_type": "error",
     "traceback": [
      "\u001b[0;31m---------------------------------------------------------------------------\u001b[0m",
      "\u001b[0;31mValueError\u001b[0m                                Traceback (most recent call last)",
      "\u001b[0;32m<ipython-input-8-098b4bf955a7>\u001b[0m in \u001b[0;36m<module>\u001b[0;34m()\u001b[0m\n\u001b[1;32m      6\u001b[0m \"\"\"\n\u001b[1;32m      7\u001b[0m \u001b[0;34m\u001b[0m\u001b[0m\n\u001b[0;32m----> 8\u001b[0;31m \u001b[0mnumbers\u001b[0m \u001b[0;34m=\u001b[0m \u001b[0mint\u001b[0m\u001b[0;34m(\u001b[0m\u001b[0minput\u001b[0m\u001b[0;34m(\u001b[0m\u001b[0;34m'Enter 10 integers: '\u001b[0m\u001b[0;34m)\u001b[0m\u001b[0;34m)\u001b[0m\u001b[0;34m\u001b[0m\u001b[0;34m\u001b[0m\u001b[0m\n\u001b[0m\u001b[1;32m      9\u001b[0m \u001b[0mindex\u001b[0m \u001b[0;34m=\u001b[0m \u001b[0;36m0\u001b[0m\u001b[0;34m\u001b[0m\u001b[0;34m\u001b[0m\u001b[0m\n\u001b[1;32m     10\u001b[0m \u001b[0;34m\u001b[0m\u001b[0m\n",
      "\u001b[0;31mValueError\u001b[0m: invalid literal for int() with base 10: '1 2 3 4 5 6 7 8 9 10'"
     ]
    }
   ],
   "source": [
    "\n",
    "\"\"\"\n",
    "Write a program that asks the user to input 10 integers, and\n",
    "then prints the largest odd number that was entered. If no odd number was\n",
    "entered, it should print a message to that effect.\n",
    "\"\"\"\n",
    "\n",
    "numbers = int(input('Enter 10 integers: '))\n",
    "index = 0\n",
    "\n",
    "while index < 9:\n",
    "    if (numbers[index] % 2 != 0):\n",
    "        OddNumber = numbers[index]\n",
    "        if (OddNumber > numbers[index]):\n",
    "            largestOddNumber = oddNumber\n",
    "        index = index + 1\n",
    "        \n",
    "print(\"Largest odd number is \" +str(largestOddNumber))\n"
   ]
  },
  {
   "cell_type": "code",
   "execution_count": null,
   "metadata": {},
   "outputs": [],
   "source": []
  },
  {
   "cell_type": "code",
   "execution_count": null,
   "metadata": {},
   "outputs": [],
   "source": []
  }
 ],
 "metadata": {
  "kernelspec": {
   "display_name": "Python 3",
   "language": "python",
   "name": "python3"
  },
  "language_info": {
   "codemirror_mode": {
    "name": "ipython",
    "version": 3
   },
   "file_extension": ".py",
   "mimetype": "text/x-python",
   "name": "python",
   "nbconvert_exporter": "python",
   "pygments_lexer": "ipython3",
   "version": "3.6.9"
  }
 },
 "nbformat": 4,
 "nbformat_minor": 2
}
