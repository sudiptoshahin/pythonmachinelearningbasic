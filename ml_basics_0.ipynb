{
 "cells": [
  {
   "cell_type": "markdown",
   "metadata": {},
   "source": [
    "import numpy as np\n",
    "\n",
    "A = np.array([[1, 2, 3], [4, 5, 6], [7, 8, 9], [4, 5, 6]])\n",
    "\n",
    "A\n",
    "\n",
    "A[1:, 1:2]"
   ]
  },
  {
   "cell_type": "code",
   "execution_count": 30,
   "metadata": {},
   "outputs": [
    {
     "name": "stdout",
     "output_type": "stream",
     "text": [
      "[[1 2 3]\n",
      " [4 5 6]\n",
      " [7 8 9]\n",
      " [4 5 6]]\n",
      "()\n",
      "[[2 3]\n",
      " [5 6]]\n"
     ]
    }
   ],
   "source": [
    "import numpy as np\n",
    "\n",
    "A = np.array([[1, 2, 3], [4, 5, 6], [7, 8, 9], [4, 5, 6]])\n",
    "\n",
    "print(A)\n",
    "\n",
    "A[1:3, 1:]\n",
    "\n",
    "\"\"\"\n",
    "4 5\n",
    "7 8\n",
    "\"\"\"\n",
    "\n",
    "# print(A[1:3, :2])\n",
    "print()\n",
    "\"\"\"\n",
    "2 3\n",
    "5 6\n",
    "\"\"\"\n",
    "\n",
    "print(A[0:2, 1:])\n",
    "\n"
   ]
  },
  {
   "cell_type": "code",
   "execution_count": 36,
   "metadata": {},
   "outputs": [
    {
     "data": {
      "text/plain": [
       "100.0"
      ]
     },
     "execution_count": 36,
     "metadata": {},
     "output_type": "execute_result"
    }
   ],
   "source": [
    "\n",
    "# vector\n",
    "L = np.array([1, 2, 4, 5, 6])\n",
    "\n",
    "# vector\n",
    "M = np.array([2, 3, 5, 6, 7])\n",
    "\n",
    "dot = np.dot(L, M)\n",
    "dot.sum()"
   ]
  },
  {
   "cell_type": "code",
   "execution_count": 38,
   "metadata": {},
   "outputs": [
    {
     "name": "stdout",
     "output_type": "stream",
     "text": [
      "[[1 4 7 4]\n",
      " [2 5 8 5]\n",
      " [3 6 9 6]]\n"
     ]
    }
   ],
   "source": [
    "\n",
    "\n",
    "# transpose of a matrix\n",
    "trnA = A.T\n",
    "print(trnA)\n",
    "\n"
   ]
  },
  {
   "cell_type": "code",
   "execution_count": 40,
   "metadata": {},
   "outputs": [
    {
     "name": "stdout",
     "output_type": "stream",
     "text": [
      "('A: \\n', array([[1, 2, 3],\n",
      "       [4, 5, 6],\n",
      "       [7, 8, 9],\n",
      "       [4, 5, 6]]))\n",
      "()\n",
      "('C: \\n', array([ 1, 10, 20]))\n",
      "()\n",
      "('A*C: \\n', array([[  1,  20,  60],\n",
      "       [  4,  50, 120],\n",
      "       [  7,  80, 180],\n",
      "       [  4,  50, 120]]))\n",
      "()\n",
      "('A dot C: ', array([ 81, 174, 267, 174]))\n"
     ]
    }
   ],
   "source": [
    "\n",
    "C = np.array([1, 10, 20])\n",
    "print(\"A: \\n\", A)\n",
    "print()\n",
    "\n",
    "print(\"C: \\n\", C)\n",
    "print()\n",
    "\n",
    "print(\"A*C: \\n\", A*C)\n",
    "\n",
    "print()\n",
    "\n",
    "print(\"A dot C: \", np.dot(A, C))\n"
   ]
  },
  {
   "cell_type": "code",
   "execution_count": null,
   "metadata": {},
   "outputs": [],
   "source": [
    "\n",
    "B = np.array([[1, 2], [2, 3]])\n",
    "C = np.array([[3, 5], [6, 7, 8]])\n",
    "\n",
    "B = np.mat(B)\n",
    "C = np.mat(C)\n",
    "\n",
    "D = B * C\n",
    "print(D)\n",
    "\n",
    "# B = A * C\n",
    "# print(B)\n"
   ]
  },
  {
   "cell_type": "code",
   "execution_count": null,
   "metadata": {},
   "outputs": [],
   "source": [
    "from google.colab import files\n",
    "\n",
    "uploaded = files.upload()"
   ]
  },
  {
   "cell_type": "code",
   "execution_count": 3,
   "metadata": {},
   "outputs": [
    {
     "ename": "ModuleNotFoundError",
     "evalue": "No module named 'panda'",
     "output_type": "error",
     "traceback": [
      "\u001b[0;31m---------------------------------------------------------------------------\u001b[0m",
      "\u001b[0;31mModuleNotFoundError\u001b[0m                       Traceback (most recent call last)",
      "\u001b[0;32m<ipython-input-3-f542dbfa5144>\u001b[0m in \u001b[0;36m<module>\u001b[0;34m()\u001b[0m\n\u001b[0;32m----> 1\u001b[0;31m \u001b[0;32mimport\u001b[0m \u001b[0mpanda\u001b[0m \u001b[0;32mas\u001b[0m \u001b[0mpd\u001b[0m\u001b[0;34m\u001b[0m\u001b[0;34m\u001b[0m\u001b[0m\n\u001b[0m",
      "\u001b[0;31mModuleNotFoundError\u001b[0m: No module named 'panda'"
     ]
    }
   ],
   "source": [
    "import panda as pd"
   ]
  },
  {
   "cell_type": "code",
   "execution_count": null,
   "metadata": {},
   "outputs": [],
   "source": []
  },
  {
   "cell_type": "code",
   "execution_count": null,
   "metadata": {},
   "outputs": [],
   "source": []
  }
 ],
 "metadata": {
  "kernelspec": {
   "display_name": "Python 3",
   "language": "python",
   "name": "python3"
  },
  "language_info": {
   "codemirror_mode": {
    "name": "ipython",
    "version": 3
   },
   "file_extension": ".py",
   "mimetype": "text/x-python",
   "name": "python",
   "nbconvert_exporter": "python",
   "pygments_lexer": "ipython3",
   "version": "3.6.9"
  }
 },
 "nbformat": 4,
 "nbformat_minor": 2
}
