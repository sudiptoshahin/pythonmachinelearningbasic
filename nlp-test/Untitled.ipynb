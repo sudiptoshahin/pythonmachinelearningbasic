{
 "cells": [
  {
   "cell_type": "code",
   "execution_count": 15,
   "metadata": {},
   "outputs": [
    {
     "name": "stdout",
     "output_type": "stream",
     "text": [
      "Displaying 12 of 12 matches:\n",
      "y could tell . \" I hope he has had no bad news ,\" said Lady Middleton . \" It mu\n",
      "about five minutes he returned . \" No bad news , Colonel , I hope ;\" said Mrs .\n",
      "n of it ; was sure there must be some bad news , and thought over every kind of\n",
      " I am afraid his circumstances may be bad . The estate at Delaford was never re\n",
      " Elinor and Marianne , \" for it is so bad a day I was afraid you might not come\n",
      "hwood ?-- Poor thing ! she looks very bad .-- No wonder . Ay , it is but too tr\n",
      "d ! no wonder she has been looking so bad and so cast down this last week or tw\n",
      "ith fortitude under this misfortune . Bad indeed must the nature of Marianne ' \n",
      " walk ; and Nancy , she was almost as bad . I declare , I have no patience with\n",
      "his own lot , and I fear it will be a bad one .\" Marianne sighed out her simila\n",
      " indeed . And as to the house being a bad one , I do not know what the Colonel \n",
      " in former days .-- In a sister it is bad enough , but in a wife !-- how I have\n"
     ]
    }
   ],
   "source": [
    "import nltk\n",
    "from nltk.book import *\n",
    "\n",
    "text2.concordance('bad')"
   ]
  },
  {
   "cell_type": "code",
   "execution_count": 17,
   "metadata": {
    "scrolled": true
   },
   "outputs": [
    {
     "name": "stdout",
     "output_type": "stream",
     "text": [
      "true contemptible christian abundant few part mean careful puzzled\n",
      "mystifying passing curious loving wise doleful gamesome singular\n",
      "delightfully perilous fearless\n"
     ]
    }
   ],
   "source": [
    "text1.similar('monstrous')"
   ]
  },
  {
   "cell_type": "code",
   "execution_count": null,
   "metadata": {},
   "outputs": [],
   "source": []
  }
 ],
 "metadata": {
  "kernelspec": {
   "display_name": "Python 3",
   "language": "python",
   "name": "python3"
  },
  "language_info": {
   "codemirror_mode": {
    "name": "ipython",
    "version": 3
   },
   "file_extension": ".py",
   "mimetype": "text/x-python",
   "name": "python",
   "nbconvert_exporter": "python",
   "pygments_lexer": "ipython3",
   "version": "3.8.3"
  }
 },
 "nbformat": 4,
 "nbformat_minor": 4
}
