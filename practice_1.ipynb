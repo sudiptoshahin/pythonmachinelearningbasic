{
 "cells": [
  {
   "cell_type": "code",
   "execution_count": 7,
   "metadata": {},
   "outputs": [
    {
     "name": "stdout",
     "output_type": "stream",
     "text": [
      "    year     hare     lynx  carrot\n",
      "0   1900  30000.0   4000.0   48300\n",
      "1   1901  47200.0   6100.0   48200\n",
      "2   1902  70200.0   9800.0   41500\n",
      "3   1903  77400.0  35200.0   38200\n",
      "4   1904  36300.0  59400.0   40600\n",
      "5   1905  20600.0  41700.0   39800\n",
      "6   1906  18100.0  19000.0   38600\n",
      "7   1907  21400.0  13000.0   42300\n",
      "8   1908  22000.0   8300.0   44500\n",
      "9   1909  25400.0   9100.0   42100\n",
      "10  1910  27100.0   7400.0   46000\n",
      "11  1911  40300.0   8000.0   46800\n",
      "12  1912  57000.0  12300.0   43800\n",
      "13  1913  76600.0  19500.0   40900\n",
      "14  1914  52300.0  45700.0   39400\n",
      "15  1915  19500.0  51100.0   39000\n",
      "16  1916  11200.0  29700.0   36700\n",
      "17  1917   7600.0  15800.0   41800\n",
      "18  1918  14600.0   9700.0   43300\n",
      "19  1919  16200.0  10100.0   41300\n",
      "20  1920  24700.0   8600.0   47300\n",
      "   year     hare     lynx  carrot\n",
      "0  1900  30000.0   4000.0   48300\n",
      "1  1901  47200.0   6100.0   48200\n",
      "2  1902  70200.0   9800.0   41500\n",
      "3  1903  77400.0  35200.0   38200\n",
      "4  1904  36300.0  59400.0   40600\n"
     ]
    }
   ],
   "source": [
    "\n",
    "import numpy as np\n",
    "import pandas as pd\n",
    "\n",
    "# open the text file\n",
    "pop_df = pd.read_csv('res\\populations.txt', sep='\\t')\n",
    "print(pop_df)\n"
   ]
  },
  {
   "cell_type": "code",
   "execution_count": 8,
   "metadata": {},
   "outputs": [
    {
     "name": "stdout",
     "output_type": "stream",
     "text": [
      "   year     hare     lynx  carrot\n",
      "0  1900  30000.0   4000.0   48300\n",
      "1  1901  47200.0   6100.0   48200\n",
      "2  1902  70200.0   9800.0   41500\n",
      "3  1903  77400.0  35200.0   38200\n",
      "4  1904  36300.0  59400.0   40600\n"
     ]
    }
   ],
   "source": [
    "## to undarstand the data\n",
    "print(pop_df.head())"
   ]
  },
  {
   "cell_type": "code",
   "execution_count": 10,
   "metadata": {},
   "outputs": [
    {
     "name": "stdout",
     "output_type": "stream",
     "text": [
      "[30000. 47200. 70200. 77400. 36300. 20600. 18100. 21400. 22000. 25400.\n",
      " 27100. 40300. 57000. 76600. 52300. 19500. 11200.  7600. 14600. 16200.\n",
      " 24700.]\n"
     ]
    }
   ],
   "source": [
    "\n",
    "# show the columns as column vector\n",
    "print(np.array(pop_df['hare']))"
   ]
  },
  {
   "cell_type": "code",
   "execution_count": 13,
   "metadata": {},
   "outputs": [
    {
     "data": {
      "text/plain": [
       "array([[ 1900., 30000.,  4000., 48300.],\n",
       "       [ 1901., 47200.,  6100., 48200.],\n",
       "       [ 1902., 70200.,  9800., 41500.],\n",
       "       [ 1903., 77400., 35200., 38200.],\n",
       "       [ 1904., 36300., 59400., 40600.],\n",
       "       [ 1905., 20600., 41700., 39800.],\n",
       "       [ 1906., 18100., 19000., 38600.],\n",
       "       [ 1907., 21400., 13000., 42300.],\n",
       "       [ 1908., 22000.,  8300., 44500.],\n",
       "       [ 1909., 25400.,  9100., 42100.],\n",
       "       [ 1910., 27100.,  7400., 46000.],\n",
       "       [ 1911., 40300.,  8000., 46800.],\n",
       "       [ 1912., 57000., 12300., 43800.],\n",
       "       [ 1913., 76600., 19500., 40900.],\n",
       "       [ 1914., 52300., 45700., 39400.],\n",
       "       [ 1915., 19500., 51100., 39000.],\n",
       "       [ 1916., 11200., 29700., 36700.],\n",
       "       [ 1917.,  7600., 15800., 41800.],\n",
       "       [ 1918., 14600.,  9700., 43300.],\n",
       "       [ 1919., 16200., 10100., 41300.],\n",
       "       [ 1920., 24700.,  8600., 47300.]])"
      ]
     },
     "execution_count": 13,
     "metadata": {},
     "output_type": "execute_result"
    }
   ],
   "source": [
    "# all values shows as a np array\n",
    "# it converts it into dimensional array\n",
    "pop_df.values\n"
   ]
  },
  {
   "cell_type": "code",
   "execution_count": 14,
   "metadata": {},
   "outputs": [
    {
     "data": {
      "text/plain": [
       "(21, 4)"
      ]
     },
     "execution_count": 14,
     "metadata": {},
     "output_type": "execute_result"
    }
   ],
   "source": [
    "pop_df.shape"
   ]
  },
  {
   "cell_type": "code",
   "execution_count": 16,
   "metadata": {},
   "outputs": [
    {
     "name": "stdout",
     "output_type": "stream",
     "text": [
      "0     30000.0\n",
      "1     47200.0\n",
      "2     70200.0\n",
      "3     77400.0\n",
      "4     36300.0\n",
      "5     20600.0\n",
      "6     18100.0\n",
      "7     21400.0\n",
      "8     22000.0\n",
      "9     25400.0\n",
      "10    27100.0\n",
      "11    40300.0\n",
      "12    57000.0\n",
      "13    76600.0\n",
      "14    52300.0\n",
      "15    19500.0\n",
      "16    11200.0\n",
      "17     7600.0\n",
      "18    14600.0\n",
      "19    16200.0\n",
      "20    24700.0\n",
      "Name: hare, dtype: float64\n",
      "0      4000.0\n",
      "1      6100.0\n",
      "2      9800.0\n",
      "3     35200.0\n",
      "4     59400.0\n",
      "5     41700.0\n",
      "6     19000.0\n",
      "7     13000.0\n",
      "8      8300.0\n",
      "9      9100.0\n",
      "10     7400.0\n",
      "11     8000.0\n",
      "12    12300.0\n",
      "13    19500.0\n",
      "14    45700.0\n",
      "15    51100.0\n",
      "16    29700.0\n",
      "17    15800.0\n",
      "18     9700.0\n",
      "19    10100.0\n",
      "20     8600.0\n",
      "Name: lynx, dtype: float64\n"
     ]
    }
   ],
   "source": [
    "hare_df = pop_df['hare']\n",
    "lynx_df = pop_df['lynx']\n",
    "carrot_df = pop_df['carrot']\n",
    "\n",
    "print(hare_df)"
   ]
  },
  {
   "cell_type": "code",
   "execution_count": 23,
   "metadata": {},
   "outputs": [
    {
     "name": "stdout",
     "output_type": "stream",
     "text": [
      "hare      34080.952381\n",
      "lynx      20166.666667\n",
      "carrot    42400.000000\n",
      "dtype: float64\n",
      "\n",
      "\n",
      "Standard deviations: \n",
      "\n",
      "hare      21413.981859\n",
      "lynx      16655.999920\n",
      "carrot     3404.555771\n",
      "dtype: float64\n"
     ]
    }
   ],
   "source": [
    "# mean populations\n",
    "\n",
    "pop_mean = pop_df[['hare', 'lynx', 'carrot']].mean()\n",
    "\n",
    "print(pop_mean)\n",
    "print('\\n')\n",
    "print('Standard deviations: \\n')\n",
    "print(pop_df[['hare', 'lynx', 'carrot']].std())"
   ]
  },
  {
   "cell_type": "code",
   "execution_count": 24,
   "metadata": {},
   "outputs": [
    {
     "data": {
      "text/html": [
       "<div>\n",
       "<style scoped>\n",
       "    .dataframe tbody tr th:only-of-type {\n",
       "        vertical-align: middle;\n",
       "    }\n",
       "\n",
       "    .dataframe tbody tr th {\n",
       "        vertical-align: top;\n",
       "    }\n",
       "\n",
       "    .dataframe thead th {\n",
       "        text-align: right;\n",
       "    }\n",
       "</style>\n",
       "<table border=\"1\" class=\"dataframe\">\n",
       "  <thead>\n",
       "    <tr style=\"text-align: right;\">\n",
       "      <th></th>\n",
       "      <th>hare</th>\n",
       "      <th>lynx</th>\n",
       "      <th>carrot</th>\n",
       "    </tr>\n",
       "  </thead>\n",
       "  <tbody>\n",
       "    <tr>\n",
       "      <th>count</th>\n",
       "      <td>21.000000</td>\n",
       "      <td>21.000000</td>\n",
       "      <td>21.000000</td>\n",
       "    </tr>\n",
       "    <tr>\n",
       "      <th>mean</th>\n",
       "      <td>34080.952381</td>\n",
       "      <td>20166.666667</td>\n",
       "      <td>42400.000000</td>\n",
       "    </tr>\n",
       "    <tr>\n",
       "      <th>std</th>\n",
       "      <td>21413.981859</td>\n",
       "      <td>16655.999920</td>\n",
       "      <td>3404.555771</td>\n",
       "    </tr>\n",
       "    <tr>\n",
       "      <th>min</th>\n",
       "      <td>7600.000000</td>\n",
       "      <td>4000.000000</td>\n",
       "      <td>36700.000000</td>\n",
       "    </tr>\n",
       "    <tr>\n",
       "      <th>25%</th>\n",
       "      <td>19500.000000</td>\n",
       "      <td>8600.000000</td>\n",
       "      <td>39800.000000</td>\n",
       "    </tr>\n",
       "    <tr>\n",
       "      <th>50%</th>\n",
       "      <td>25400.000000</td>\n",
       "      <td>12300.000000</td>\n",
       "      <td>41800.000000</td>\n",
       "    </tr>\n",
       "    <tr>\n",
       "      <th>75%</th>\n",
       "      <td>47200.000000</td>\n",
       "      <td>29700.000000</td>\n",
       "      <td>44500.000000</td>\n",
       "    </tr>\n",
       "    <tr>\n",
       "      <th>max</th>\n",
       "      <td>77400.000000</td>\n",
       "      <td>59400.000000</td>\n",
       "      <td>48300.000000</td>\n",
       "    </tr>\n",
       "  </tbody>\n",
       "</table>\n",
       "</div>"
      ],
      "text/plain": [
       "               hare          lynx        carrot\n",
       "count     21.000000     21.000000     21.000000\n",
       "mean   34080.952381  20166.666667  42400.000000\n",
       "std    21413.981859  16655.999920   3404.555771\n",
       "min     7600.000000   4000.000000  36700.000000\n",
       "25%    19500.000000   8600.000000  39800.000000\n",
       "50%    25400.000000  12300.000000  41800.000000\n",
       "75%    47200.000000  29700.000000  44500.000000\n",
       "max    77400.000000  59400.000000  48300.000000"
      ]
     },
     "execution_count": 24,
     "metadata": {},
     "output_type": "execute_result"
    }
   ],
   "source": [
    "\n",
    "pop_df[['hare', 'lynx', 'carrot']].describe()\n"
   ]
  },
  {
   "cell_type": "code",
   "execution_count": 25,
   "metadata": {},
   "outputs": [
    {
     "data": {
      "text/html": [
       "<div>\n",
       "<style scoped>\n",
       "    .dataframe tbody tr th:only-of-type {\n",
       "        vertical-align: middle;\n",
       "    }\n",
       "\n",
       "    .dataframe tbody tr th {\n",
       "        vertical-align: top;\n",
       "    }\n",
       "\n",
       "    .dataframe thead th {\n",
       "        text-align: right;\n",
       "    }\n",
       "</style>\n",
       "<table border=\"1\" class=\"dataframe\">\n",
       "  <thead>\n",
       "    <tr style=\"text-align: right;\">\n",
       "      <th></th>\n",
       "      <th>year</th>\n",
       "      <th>hare</th>\n",
       "      <th>lynx</th>\n",
       "      <th>carrot</th>\n",
       "    </tr>\n",
       "  </thead>\n",
       "  <tbody>\n",
       "    <tr>\n",
       "      <th>count</th>\n",
       "      <td>21.000000</td>\n",
       "      <td>21.000000</td>\n",
       "      <td>21.000000</td>\n",
       "      <td>21.000000</td>\n",
       "    </tr>\n",
       "    <tr>\n",
       "      <th>mean</th>\n",
       "      <td>1910.000000</td>\n",
       "      <td>34080.952381</td>\n",
       "      <td>20166.666667</td>\n",
       "      <td>42400.000000</td>\n",
       "    </tr>\n",
       "    <tr>\n",
       "      <th>std</th>\n",
       "      <td>6.204837</td>\n",
       "      <td>21413.981859</td>\n",
       "      <td>16655.999920</td>\n",
       "      <td>3404.555771</td>\n",
       "    </tr>\n",
       "    <tr>\n",
       "      <th>min</th>\n",
       "      <td>1900.000000</td>\n",
       "      <td>7600.000000</td>\n",
       "      <td>4000.000000</td>\n",
       "      <td>36700.000000</td>\n",
       "    </tr>\n",
       "    <tr>\n",
       "      <th>25%</th>\n",
       "      <td>1905.000000</td>\n",
       "      <td>19500.000000</td>\n",
       "      <td>8600.000000</td>\n",
       "      <td>39800.000000</td>\n",
       "    </tr>\n",
       "    <tr>\n",
       "      <th>50%</th>\n",
       "      <td>1910.000000</td>\n",
       "      <td>25400.000000</td>\n",
       "      <td>12300.000000</td>\n",
       "      <td>41800.000000</td>\n",
       "    </tr>\n",
       "    <tr>\n",
       "      <th>75%</th>\n",
       "      <td>1915.000000</td>\n",
       "      <td>47200.000000</td>\n",
       "      <td>29700.000000</td>\n",
       "      <td>44500.000000</td>\n",
       "    </tr>\n",
       "    <tr>\n",
       "      <th>max</th>\n",
       "      <td>1920.000000</td>\n",
       "      <td>77400.000000</td>\n",
       "      <td>59400.000000</td>\n",
       "      <td>48300.000000</td>\n",
       "    </tr>\n",
       "  </tbody>\n",
       "</table>\n",
       "</div>"
      ],
      "text/plain": [
       "              year          hare          lynx        carrot\n",
       "count    21.000000     21.000000     21.000000     21.000000\n",
       "mean   1910.000000  34080.952381  20166.666667  42400.000000\n",
       "std       6.204837  21413.981859  16655.999920   3404.555771\n",
       "min    1900.000000   7600.000000   4000.000000  36700.000000\n",
       "25%    1905.000000  19500.000000   8600.000000  39800.000000\n",
       "50%    1910.000000  25400.000000  12300.000000  41800.000000\n",
       "75%    1915.000000  47200.000000  29700.000000  44500.000000\n",
       "max    1920.000000  77400.000000  59400.000000  48300.000000"
      ]
     },
     "execution_count": 25,
     "metadata": {},
     "output_type": "execute_result"
    }
   ],
   "source": [
    "\n",
    "# we can all also used describe method as\n",
    "pop_df.describe()\n"
   ]
  },
  {
   "cell_type": "code",
   "execution_count": 26,
   "metadata": {},
   "outputs": [
    {
     "data": {
      "text/html": [
       "<div>\n",
       "<style scoped>\n",
       "    .dataframe tbody tr th:only-of-type {\n",
       "        vertical-align: middle;\n",
       "    }\n",
       "\n",
       "    .dataframe tbody tr th {\n",
       "        vertical-align: top;\n",
       "    }\n",
       "\n",
       "    .dataframe thead th {\n",
       "        text-align: right;\n",
       "    }\n",
       "</style>\n",
       "<table border=\"1\" class=\"dataframe\">\n",
       "  <thead>\n",
       "    <tr style=\"text-align: right;\">\n",
       "      <th></th>\n",
       "      <th>hare</th>\n",
       "      <th>lynx</th>\n",
       "      <th>carrot</th>\n",
       "    </tr>\n",
       "  </thead>\n",
       "  <tbody>\n",
       "    <tr>\n",
       "      <th>hare</th>\n",
       "      <td>1.000000</td>\n",
       "      <td>0.071892</td>\n",
       "      <td>-0.016604</td>\n",
       "    </tr>\n",
       "    <tr>\n",
       "      <th>lynx</th>\n",
       "      <td>0.071892</td>\n",
       "      <td>1.000000</td>\n",
       "      <td>-0.680577</td>\n",
       "    </tr>\n",
       "    <tr>\n",
       "      <th>carrot</th>\n",
       "      <td>-0.016604</td>\n",
       "      <td>-0.680577</td>\n",
       "      <td>1.000000</td>\n",
       "    </tr>\n",
       "  </tbody>\n",
       "</table>\n",
       "</div>"
      ],
      "text/plain": [
       "            hare      lynx    carrot\n",
       "hare    1.000000  0.071892 -0.016604\n",
       "lynx    0.071892  1.000000 -0.680577\n",
       "carrot -0.016604 -0.680577  1.000000"
      ]
     },
     "execution_count": 26,
     "metadata": {},
     "output_type": "execute_result"
    }
   ],
   "source": [
    "# a better way to corelation analysis\n",
    "\n",
    "pop_df[['hare', 'lynx', 'carrot']].corr()"
   ]
  },
  {
   "cell_type": "code",
   "execution_count": 27,
   "metadata": {},
   "outputs": [
    {
     "data": {
      "text/html": [
       "<div>\n",
       "<style scoped>\n",
       "    .dataframe tbody tr th:only-of-type {\n",
       "        vertical-align: middle;\n",
       "    }\n",
       "\n",
       "    .dataframe tbody tr th {\n",
       "        vertical-align: top;\n",
       "    }\n",
       "\n",
       "    .dataframe thead th {\n",
       "        text-align: right;\n",
       "    }\n",
       "</style>\n",
       "<table border=\"1\" class=\"dataframe\">\n",
       "  <thead>\n",
       "    <tr style=\"text-align: right;\">\n",
       "      <th></th>\n",
       "      <th>year</th>\n",
       "      <th>hare</th>\n",
       "      <th>lynx</th>\n",
       "      <th>carrot</th>\n",
       "    </tr>\n",
       "  </thead>\n",
       "  <tbody>\n",
       "    <tr>\n",
       "      <th>17</th>\n",
       "      <td>1917</td>\n",
       "      <td>7600.0</td>\n",
       "      <td>15800.0</td>\n",
       "      <td>41800</td>\n",
       "    </tr>\n",
       "    <tr>\n",
       "      <th>16</th>\n",
       "      <td>1916</td>\n",
       "      <td>11200.0</td>\n",
       "      <td>29700.0</td>\n",
       "      <td>36700</td>\n",
       "    </tr>\n",
       "    <tr>\n",
       "      <th>18</th>\n",
       "      <td>1918</td>\n",
       "      <td>14600.0</td>\n",
       "      <td>9700.0</td>\n",
       "      <td>43300</td>\n",
       "    </tr>\n",
       "    <tr>\n",
       "      <th>19</th>\n",
       "      <td>1919</td>\n",
       "      <td>16200.0</td>\n",
       "      <td>10100.0</td>\n",
       "      <td>41300</td>\n",
       "    </tr>\n",
       "    <tr>\n",
       "      <th>6</th>\n",
       "      <td>1906</td>\n",
       "      <td>18100.0</td>\n",
       "      <td>19000.0</td>\n",
       "      <td>38600</td>\n",
       "    </tr>\n",
       "    <tr>\n",
       "      <th>15</th>\n",
       "      <td>1915</td>\n",
       "      <td>19500.0</td>\n",
       "      <td>51100.0</td>\n",
       "      <td>39000</td>\n",
       "    </tr>\n",
       "    <tr>\n",
       "      <th>5</th>\n",
       "      <td>1905</td>\n",
       "      <td>20600.0</td>\n",
       "      <td>41700.0</td>\n",
       "      <td>39800</td>\n",
       "    </tr>\n",
       "    <tr>\n",
       "      <th>7</th>\n",
       "      <td>1907</td>\n",
       "      <td>21400.0</td>\n",
       "      <td>13000.0</td>\n",
       "      <td>42300</td>\n",
       "    </tr>\n",
       "    <tr>\n",
       "      <th>8</th>\n",
       "      <td>1908</td>\n",
       "      <td>22000.0</td>\n",
       "      <td>8300.0</td>\n",
       "      <td>44500</td>\n",
       "    </tr>\n",
       "    <tr>\n",
       "      <th>20</th>\n",
       "      <td>1920</td>\n",
       "      <td>24700.0</td>\n",
       "      <td>8600.0</td>\n",
       "      <td>47300</td>\n",
       "    </tr>\n",
       "    <tr>\n",
       "      <th>9</th>\n",
       "      <td>1909</td>\n",
       "      <td>25400.0</td>\n",
       "      <td>9100.0</td>\n",
       "      <td>42100</td>\n",
       "    </tr>\n",
       "    <tr>\n",
       "      <th>10</th>\n",
       "      <td>1910</td>\n",
       "      <td>27100.0</td>\n",
       "      <td>7400.0</td>\n",
       "      <td>46000</td>\n",
       "    </tr>\n",
       "    <tr>\n",
       "      <th>0</th>\n",
       "      <td>1900</td>\n",
       "      <td>30000.0</td>\n",
       "      <td>4000.0</td>\n",
       "      <td>48300</td>\n",
       "    </tr>\n",
       "    <tr>\n",
       "      <th>4</th>\n",
       "      <td>1904</td>\n",
       "      <td>36300.0</td>\n",
       "      <td>59400.0</td>\n",
       "      <td>40600</td>\n",
       "    </tr>\n",
       "    <tr>\n",
       "      <th>11</th>\n",
       "      <td>1911</td>\n",
       "      <td>40300.0</td>\n",
       "      <td>8000.0</td>\n",
       "      <td>46800</td>\n",
       "    </tr>\n",
       "    <tr>\n",
       "      <th>1</th>\n",
       "      <td>1901</td>\n",
       "      <td>47200.0</td>\n",
       "      <td>6100.0</td>\n",
       "      <td>48200</td>\n",
       "    </tr>\n",
       "    <tr>\n",
       "      <th>14</th>\n",
       "      <td>1914</td>\n",
       "      <td>52300.0</td>\n",
       "      <td>45700.0</td>\n",
       "      <td>39400</td>\n",
       "    </tr>\n",
       "    <tr>\n",
       "      <th>12</th>\n",
       "      <td>1912</td>\n",
       "      <td>57000.0</td>\n",
       "      <td>12300.0</td>\n",
       "      <td>43800</td>\n",
       "    </tr>\n",
       "    <tr>\n",
       "      <th>2</th>\n",
       "      <td>1902</td>\n",
       "      <td>70200.0</td>\n",
       "      <td>9800.0</td>\n",
       "      <td>41500</td>\n",
       "    </tr>\n",
       "    <tr>\n",
       "      <th>13</th>\n",
       "      <td>1913</td>\n",
       "      <td>76600.0</td>\n",
       "      <td>19500.0</td>\n",
       "      <td>40900</td>\n",
       "    </tr>\n",
       "    <tr>\n",
       "      <th>3</th>\n",
       "      <td>1903</td>\n",
       "      <td>77400.0</td>\n",
       "      <td>35200.0</td>\n",
       "      <td>38200</td>\n",
       "    </tr>\n",
       "  </tbody>\n",
       "</table>\n",
       "</div>"
      ],
      "text/plain": [
       "    year     hare     lynx  carrot\n",
       "17  1917   7600.0  15800.0   41800\n",
       "16  1916  11200.0  29700.0   36700\n",
       "18  1918  14600.0   9700.0   43300\n",
       "19  1919  16200.0  10100.0   41300\n",
       "6   1906  18100.0  19000.0   38600\n",
       "15  1915  19500.0  51100.0   39000\n",
       "5   1905  20600.0  41700.0   39800\n",
       "7   1907  21400.0  13000.0   42300\n",
       "8   1908  22000.0   8300.0   44500\n",
       "20  1920  24700.0   8600.0   47300\n",
       "9   1909  25400.0   9100.0   42100\n",
       "10  1910  27100.0   7400.0   46000\n",
       "0   1900  30000.0   4000.0   48300\n",
       "4   1904  36300.0  59400.0   40600\n",
       "11  1911  40300.0   8000.0   46800\n",
       "1   1901  47200.0   6100.0   48200\n",
       "14  1914  52300.0  45700.0   39400\n",
       "12  1912  57000.0  12300.0   43800\n",
       "2   1902  70200.0   9800.0   41500\n",
       "13  1913  76600.0  19500.0   40900\n",
       "3   1903  77400.0  35200.0   38200"
      ]
     },
     "execution_count": 27,
     "metadata": {},
     "output_type": "execute_result"
    }
   ],
   "source": [
    "# sort the values with hares\n",
    "\n",
    "pop_df.sort_values(by=['hare'])"
   ]
  },
  {
   "cell_type": "code",
   "execution_count": 31,
   "metadata": {},
   "outputs": [
    {
     "name": "stdout",
     "output_type": "stream",
     "text": [
      "\n",
      "\n",
      "    year     hare     lynx  carrot\n",
      "2   1902  70200.0   9800.0   41500\n",
      "3   1903  77400.0  35200.0   38200\n",
      "12  1912  57000.0  12300.0   43800\n",
      "13  1913  76600.0  19500.0   40900\n",
      "14  1914  52300.0  45700.0   39400\n",
      "\n",
      "\n",
      "2     1902\n",
      "3     1903\n",
      "12    1912\n",
      "13    1913\n",
      "14    1914\n",
      "Name: year, dtype: int64\n"
     ]
    }
   ],
   "source": [
    "# finding all instances when the population of hares is above 50k\n",
    "hare_above_50k = pop_df['hare'] > 50000.0\n",
    "# print(hare_above_50k)\n",
    "print('\\n')\n",
    "\n",
    "# lets show the data where the hares are above 50k\n",
    "print(pop_df[hare_above_50k])\n",
    "\n",
    "print('\\n')\n",
    "\n",
    "# years when hare growth is upto 50k\n",
    "print(pop_df[hare_above_50k].year)\n"
   ]
  },
  {
   "cell_type": "code",
   "execution_count": 33,
   "metadata": {},
   "outputs": [
    {
     "name": "stdout",
     "output_type": "stream",
     "text": [
      "    year     hare     lynx  carrot\n",
      "2   1902  70200.0   9800.0   41500\n",
      "3   1903  77400.0  35200.0   38200\n",
      "4   1904  36300.0  59400.0   40600\n",
      "12  1912  57000.0  12300.0   43800\n",
      "13  1913  76600.0  19500.0   40900\n",
      "14  1914  52300.0  45700.0   39400\n",
      "15  1915  19500.0  51100.0   39000\n"
     ]
    }
   ],
   "source": [
    "# finding all instances when the population of one of \n",
    "# the animal species is above 50k\n",
    "\n",
    "above_50k = (pop_df['hare'] > 50000) | (pop_df['lynx'] > 50000)\n",
    "print(pop_df[above_50k])"
   ]
  },
  {
   "cell_type": "code",
   "execution_count": 34,
   "metadata": {},
   "outputs": [
    {
     "name": "stdout",
     "output_type": "stream",
     "text": [
      "       hare     lynx  carrot\n",
      "0   30000.0   4000.0   48300\n",
      "1   47200.0   6100.0   48200\n",
      "2   70200.0   9800.0   41500\n",
      "3   77400.0  35200.0   38200\n",
      "4   36300.0  59400.0   40600\n",
      "5   20600.0  41700.0   39800\n",
      "6   18100.0  19000.0   38600\n",
      "7   21400.0  13000.0   42300\n",
      "8   22000.0   8300.0   44500\n",
      "9   25400.0   9100.0   42100\n",
      "10  27100.0   7400.0   46000\n",
      "11  40300.0   8000.0   46800\n",
      "12  57000.0  12300.0   43800\n",
      "13  76600.0  19500.0   40900\n",
      "14  52300.0  45700.0   39400\n",
      "15  19500.0  51100.0   39000\n",
      "16  11200.0  29700.0   36700\n",
      "17   7600.0  15800.0   41800\n",
      "18  14600.0   9700.0   43300\n",
      "19  16200.0  10100.0   41300\n",
      "20  24700.0   8600.0   47300\n"
     ]
    }
   ],
   "source": [
    "\n",
    "pop2 = pop_df.drop('year', axis=1)\n",
    "print(pop2)\n"
   ]
  },
  {
   "cell_type": "code",
   "execution_count": 35,
   "metadata": {},
   "outputs": [
    {
     "name": "stdout",
     "output_type": "stream",
     "text": [
      "[[30000.  4000. 48300.]\n",
      " [47200.  6100. 48200.]\n",
      " [70200.  9800. 41500.]\n",
      " [77400. 35200. 38200.]\n",
      " [36300. 59400. 40600.]\n",
      " [20600. 41700. 39800.]\n",
      " [18100. 19000. 38600.]\n",
      " [21400. 13000. 42300.]\n",
      " [22000.  8300. 44500.]\n",
      " [25400.  9100. 42100.]\n",
      " [27100.  7400. 46000.]\n",
      " [40300.  8000. 46800.]\n",
      " [57000. 12300. 43800.]\n",
      " [76600. 19500. 40900.]\n",
      " [52300. 45700. 39400.]\n",
      " [19500. 51100. 39000.]\n",
      " [11200. 29700. 36700.]\n",
      " [ 7600. 15800. 41800.]\n",
      " [14600.  9700. 43300.]\n",
      " [16200. 10100. 41300.]\n",
      " [24700.  8600. 47300.]]\n"
     ]
    }
   ],
   "source": [
    "\n",
    "# when necessary, we can convert a dataframe into Numpy array\n",
    "poptable = np.array(pop2)\n",
    "print(poptable)\n"
   ]
  },
  {
   "cell_type": "code",
   "execution_count": 36,
   "metadata": {},
   "outputs": [],
   "source": [
    "\n",
    "# example of basic visualization using Pandas and with Matplotlib\n",
    "import matplotlib.pyplot as plt\n",
    "%matplotlib inline\n"
   ]
  },
  {
   "cell_type": "code",
   "execution_count": 37,
   "metadata": {},
   "outputs": [
    {
     "data": {
      "text/plain": [
       "[<matplotlib.lines.Line2D at 0x22aa630ea90>]"
      ]
     },
     "execution_count": 37,
     "metadata": {},
     "output_type": "execute_result"
    },
    {
     "data": {
      "image/png": "[encoded data removed]",
      "text/plain": [
       "<Figure size 432x288 with 1 Axes>"
      ]
     },
     "metadata": {
      "needs_background": "light"
     },
     "output_type": "display_data"
    }
   ],
   "source": [
    "plt.plot(pop_df['year'], pop_df['hare'])"
   ]
  },
  {
   "cell_type": "code",
   "execution_count": 38,
   "metadata": {},
   "outputs": [
    {
     "data": {
      "image/png": "[encoded data removed]",
      "text/plain": [
       "<Figure size 432x288 with 1 Axes>"
      ]
     },
     "metadata": {
      "needs_background": "light"
     },
     "output_type": "display_data"
    }
   ],
   "source": [
    "\n",
    "plt.plot(pop_df['year'], pop2, label=['hares', 'lynxs', 'carrots'])\n",
    "plt.legend(('hares', 'lynx', 'carrots'))\n",
    "plt.ylabel('Populations')\n",
    "plt.xlabel('Year')\n",
    "plt.show()\n"
   ]
  },
  {
   "cell_type": "code",
   "execution_count": 41,
   "metadata": {},
   "outputs": [
    {
     "data": {
      "text/plain": [
       "<matplotlib.axes._subplots.AxesSubplot at 0x22aa6659ac0>"
      ]
     },
     "execution_count": 41,
     "metadata": {},
     "output_type": "execute_result"
    },
    {
     "data": {
      "image/png": "[encoded data removed]",
      "text/plain": [
       "<Figure size 432x288 with 1 Axes>"
      ]
     },
     "metadata": {
      "needs_background": "light"
     },
     "output_type": "display_data"
    }
   ],
   "source": [
    "pop_df.plot(x='carrot', y='lynx', kind='scatter')"
   ]
  },
  {
   "cell_type": "code",
   "execution_count": 42,
   "metadata": {},
   "outputs": [
    {
     "data": {
      "text/plain": [
       "<matplotlib.axes._subplots.AxesSubplot at 0x22aa66b2130>"
      ]
     },
     "execution_count": 42,
     "metadata": {},
     "output_type": "execute_result"
    },
    {
     "data": {
      "image/png": "[encoded data removed]",
      "text/plain": [
       "<Figure size 432x288 with 1 Axes>"
      ]
     },
     "metadata": {
      "needs_background": "light"
     },
     "output_type": "display_data"
    }
   ],
   "source": [
    "pop_df.boxplot(column=['hare', 'lynx', 'carrot'], return_type='axes')"
   ]
  },
  {
   "cell_type": "code",
   "execution_count": 43,
   "metadata": {},
   "outputs": [
    {
     "name": "stdout",
     "output_type": "stream",
     "text": [
      "[11622 15481 10028 15984 12628 12561  9568 19831 11166 10767 18369 19721\n",
      " 18440 11044  8262 15873  8726 18574 19856 10908  8835]\n"
     ]
    }
   ],
   "source": [
    "\n",
    "fox_col = np.random.randint(low=5000, high=20000, size=21)\n",
    "print(fox_col)\n"
   ]
  },
  {
   "cell_type": "code",
   "execution_count": 44,
   "metadata": {},
   "outputs": [
    {
     "name": "stdout",
     "output_type": "stream",
     "text": [
      "    year     hare     lynx  carrot    fox\n",
      "0   1900  30000.0   4000.0   48300  11622\n",
      "1   1901  47200.0   6100.0   48200  15481\n",
      "2   1902  70200.0   9800.0   41500  10028\n",
      "3   1903  77400.0  35200.0   38200  15984\n",
      "4   1904  36300.0  59400.0   40600  12628\n",
      "5   1905  20600.0  41700.0   39800  12561\n",
      "6   1906  18100.0  19000.0   38600   9568\n",
      "7   1907  21400.0  13000.0   42300  19831\n",
      "8   1908  22000.0   8300.0   44500  11166\n",
      "9   1909  25400.0   9100.0   42100  10767\n",
      "10  1910  27100.0   7400.0   46000  18369\n",
      "11  1911  40300.0   8000.0   46800  19721\n",
      "12  1912  57000.0  12300.0   43800  18440\n",
      "13  1913  76600.0  19500.0   40900  11044\n",
      "14  1914  52300.0  45700.0   39400   8262\n",
      "15  1915  19500.0  51100.0   39000  15873\n",
      "16  1916  11200.0  29700.0   36700   8726\n",
      "17  1917   7600.0  15800.0   41800  18574\n",
      "18  1918  14600.0   9700.0   43300  19856\n",
      "19  1919  16200.0  10100.0   41300  10908\n",
      "20  1920  24700.0   8600.0   47300   8835\n"
     ]
    }
   ],
   "source": [
    "\n",
    "pop_df['fox'] = pd.Series(fox_col, index = pop_df.index)\n",
    "print(pop_df)\n"
   ]
  },
  {
   "cell_type": "code",
   "execution_count": 45,
   "metadata": {},
   "outputs": [
    {
     "data": {
      "text/plain": [
       "array([[<matplotlib.axes._subplots.AxesSubplot object at 0x0000022AA63D3460>,\n",
       "        <matplotlib.axes._subplots.AxesSubplot object at 0x0000022AA66E7E20>,\n",
       "        <matplotlib.axes._subplots.AxesSubplot object at 0x0000022AA671F2B0>],\n",
       "       [<matplotlib.axes._subplots.AxesSubplot object at 0x0000022AA674C700>,\n",
       "        <matplotlib.axes._subplots.AxesSubplot object at 0x0000022AA6779B50>,\n",
       "        <matplotlib.axes._subplots.AxesSubplot object at 0x0000022AA67A5040>],\n",
       "       [<matplotlib.axes._subplots.AxesSubplot object at 0x0000022AA67A5FD0>,\n",
       "        <matplotlib.axes._subplots.AxesSubplot object at 0x0000022AA67DD4C0>,\n",
       "        <matplotlib.axes._subplots.AxesSubplot object at 0x0000022AA6836CD0>]],\n",
       "      dtype=object)"
      ]
     },
     "execution_count": 45,
     "metadata": {},
     "output_type": "execute_result"
    },
    {
     "data": {
      "image/png": "[encoded data removed]",
      "text/plain": [
       "<Figure size 1008x1008 with 9 Axes>"
      ]
     },
     "metadata": {
      "needs_background": "light"
     },
     "output_type": "display_data"
    }
   ],
   "source": [
    "pd.plotting.scatter_matrix(pop_df[['hare', 'lynx', 'carrot']], figsize=(14, 14), hist_kwds={'bins': 8}, alpha=0.5, marker='O', s=50)"
   ]
  }
 ],
 "metadata": {
  "kernelspec": {
   "display_name": "Python 3",
   "language": "python",
   "name": "python3"
  },
  "language_info": {
   "codemirror_mode": {
    "name": "ipython",
    "version": 3
   },
   "file_extension": ".py",
   "mimetype": "text/x-python",
   "name": "python",
   "nbconvert_exporter": "python",
   "pygments_lexer": "ipython3",
   "version": "3.8.3"
  }
 },
 "nbformat": 4,
 "nbformat_minor": 4
}
