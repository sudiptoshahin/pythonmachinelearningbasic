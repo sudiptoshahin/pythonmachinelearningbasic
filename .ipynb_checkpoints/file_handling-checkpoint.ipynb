{
 "cells": [
  {
   "cell_type": "code",
   "execution_count": 9,
   "metadata": {},
   "outputs": [
    {
     "name": "stdout",
     "output_type": "stream",
     "text": [
      "year\thare\tlynx\tcarrot\n",
      "1900\t30e3\t4e3\t48300\n",
      "1901\t47.2e3\t6.1e3\t48200\n",
      "1902\t70.2e3\t9.8e3\t41500\n",
      "1903\t77.4e3\t35.2e3\t38200\n",
      "1904\t36.3e3\t59.4e3\t40600\n",
      "1905\t20.6e3\t41.7e3\t39800\n",
      "1906\t18.1e3\t19e3\t38600\n",
      "1907\t21.4e3\t13e3\t42300\n",
      "1908\t22e3\t8.3e3\t44500\n",
      "1909\t25.4e3\t9.1e3\t42100\n",
      "1910\t27.1e3\t7.4e3\t46000\n",
      "1911\t40.3e3\t8e3\t46800\n",
      "1912\t57e3\t12.3e3\t43800\n",
      "1913\t76.6e3\t19.5e3\t40900\n",
      "1914\t52.3e3\t45.7e3\t39400\n",
      "1915\t19.5e3\t51.1e3\t39000\n",
      "1916\t11.2e3\t29.7e3\t36700\n",
      "1917\t7.6e3\t15.8e3\t41800\n",
      "1918\t14.6e3\t9.7e3\t43300\n",
      "1919\t16.2e3\t10.1e3\t41300\n",
      "1920\t24.7e3\t8.6e3\t47300\n",
      "\n"
     ]
    }
   ],
   "source": [
    "\n",
    "\n",
    "\"\"\"\n",
    "r -> default file. opens a file for reading\n",
    "a -> append -> open a file for appending -> create the file \n",
    "if it doesnot exist\n",
    "\n",
    "w -> opens a file for writing, creates the file if it does not\n",
    "exist\n",
    "\n",
    "x -> creates the specified file, returns an error if the with \n",
    "the same name exists\n",
    "\n",
    "\n",
    "\"\"\"\n",
    "\n",
    "myfile = open('/home/sudipto/JupyterNotebookFiles/res/populations.txt', 'r')\n",
    "\n",
    "print(myfile.read())"
   ]
  },
  {
   "cell_type": "code",
   "execution_count": 12,
   "metadata": {},
   "outputs": [
    {
     "name": "stdout",
     "output_type": "stream",
     "text": [
      "This is a variable\n",
      "This is a function\n",
      "None\n"
     ]
    }
   ],
   "source": [
    "\n",
    "\"\"\" classes and objects \"\"\"\n",
    "\n",
    "class ClassName:\n",
    "    varName = \"This is a variable\"\n",
    "    \n",
    "    def func(self):\n",
    "        print(\"This is a function\")\n",
    "        \n",
    "\n",
    "obj = ClassName()\n",
    "print(obj.varName)\n",
    "\n",
    "print(obj.func())\n",
    "\n"
   ]
  },
  {
   "cell_type": "code",
   "execution_count": 13,
   "metadata": {},
   "outputs": [],
   "source": [
    "\n",
    "\n",
    "class Student:\n",
    "    name = \"\"\n",
    "    branch = \"\"\n",
    "    year = \"\"\n",
    "    \n",
    "    def __init__(self, name, branch, year):\n",
    "        self.name = name\n",
    "        self.branch = branch\n",
    "        self.year = year\n",
    "    \n",
    "    def print_method(self):\n",
    "        print(\"Name :\" +self.name)\n",
    "        print(\"Branch :\" +self.branch)\n",
    "        print(\"Year : \" +self.year)\n",
    "\n"
   ]
  },
  {
   "cell_type": "code",
   "execution_count": 18,
   "metadata": {},
   "outputs": [
    {
     "name": "stdout",
     "output_type": "stream",
     "text": [
      "Name :Sudipto\n",
      "Branch :CSE\n",
      "Year : 2020\n"
     ]
    }
   ],
   "source": [
    "st1 = Student(\"Sudipto\", \"CSE\", \"2020\")\n",
    "st1.print_method()"
   ]
  },
  {
   "cell_type": "code",
   "execution_count": 24,
   "metadata": {},
   "outputs": [
    {
     "name": "stdout",
     "output_type": "stream",
     "text": [
      "I am the parent class\n",
      "this is the MANGO class\n"
     ]
    }
   ],
   "source": [
    "\n",
    "\"\"\" single inheritance \"\"\"\n",
    "\n",
    "class Fruit:\n",
    "    def __init__(self):\n",
    "        print(\"I am the parent class\")\n",
    "        \n",
    "class Mango(Fruit):\n",
    "    def __init__(self):\n",
    "        super().__init__()\n",
    "        print(\"this is the MANGO class\")\n",
    "\n",
    "            \n",
    "ob1 = Mango()\n"
   ]
  },
  {
   "cell_type": "code",
   "execution_count": 26,
   "metadata": {},
   "outputs": [
    {
     "data": {
      "text/plain": [
       "True"
      ]
     },
     "execution_count": 26,
     "metadata": {},
     "output_type": "execute_result"
    }
   ],
   "source": [
    "\n",
    "\"\"\"\n",
    "multiple inheritance\n",
    "\"\"\"\n",
    "class A:\n",
    "    pass\n",
    "class B:\n",
    "    pass\n",
    "\n",
    "class C(A, B):\n",
    "    pass\n",
    "\n",
    "# check\n",
    "\n",
    "\n",
    "issubclass(C, A) and issubclass(C, B)\n",
    "\n"
   ]
  },
  {
   "cell_type": "code",
   "execution_count": 27,
   "metadata": {},
   "outputs": [
    {
     "data": {
      "text/plain": [
       "10"
      ]
     },
     "execution_count": 27,
     "metadata": {},
     "output_type": "execute_result"
    }
   ],
   "source": [
    "\n",
    "\"\"\" multilevel inheritance \"\"\"\n",
    "class A:\n",
    "    x = 10\n",
    "\n",
    "class B(A):\n",
    "    pass\n",
    "\n",
    "class C(B):\n",
    "    pass\n",
    "\n",
    "obj1 = C()\n",
    "obj1.x\n",
    "\n"
   ]
  },
  {
   "cell_type": "code",
   "execution_count": 28,
   "metadata": {},
   "outputs": [
    {
     "data": {
      "text/plain": [
       "20"
      ]
     },
     "execution_count": 28,
     "metadata": {},
     "output_type": "execute_result"
    }
   ],
   "source": [
    "\n",
    "\"\"\"\n",
    "Hierarchical inheritance\n",
    "\"\"\"\n",
    "\n",
    "class A:\n",
    "    x = 20\n",
    "    \n",
    "class B(A):\n",
    "    pass\n",
    "\n",
    "class C(A):\n",
    "    pass\n",
    "\n",
    "obj1 = C()\n",
    "obj1.x\n",
    "\n",
    "\n"
   ]
  },
  {
   "cell_type": "code",
   "execution_count": null,
   "metadata": {},
   "outputs": [],
   "source": [
    "## overloading vs overriding\n",
    "\n",
    "\"\"\"\n",
    "overriding ->\n",
    "    it uses the same name with different parameter\n",
    "    \n",
    "overloading -> \n",
    "    it uses the \n",
    "\n",
    "\"\"\""
   ]
  },
  {
   "cell_type": "code",
   "execution_count": null,
   "metadata": {},
   "outputs": [],
   "source": []
  },
  {
   "cell_type": "code",
   "execution_count": null,
   "metadata": {},
   "outputs": [],
   "source": []
  }
 ],
 "metadata": {
  "kernelspec": {
   "display_name": "Python 3",
   "language": "python",
   "name": "python3"
  },
  "language_info": {
   "codemirror_mode": {
    "name": "ipython",
    "version": 3
   },
   "file_extension": ".py",
   "mimetype": "text/x-python",
   "name": "python",
   "nbconvert_exporter": "python",
   "pygments_lexer": "ipython3",
   "version": "3.8.3"
  }
 },
 "nbformat": 4,
 "nbformat_minor": 2
}
