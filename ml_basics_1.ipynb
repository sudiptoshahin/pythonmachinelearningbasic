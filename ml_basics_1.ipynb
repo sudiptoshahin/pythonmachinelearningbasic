{
 "cells": [
  {
   "cell_type": "code",
   "execution_count": 31,
   "metadata": {},
   "outputs": [
    {
     "name": "stdout",
     "output_type": "stream",
     "text": [
      "<_io.TextIOWrapper name='C:/Users/sudipto/JupyterNotebookFiles/res/populations.txt' mode='r' encoding='cp1252'>\n"
     ]
    }
   ],
   "source": [
    "import numpy as np\n",
    "\n",
    "datafile = open('C:\\Users\\sudipto\\JupyterNotebookFiles\\res\\populations.txt', 'r')\n",
    "print(datafile)\n"
   ]
  },
  {
   "cell_type": "code",
   "execution_count": 25,
   "metadata": {},
   "outputs": [
    {
     "name": "stdout",
     "output_type": "stream",
     "text": [
      " Volume in drive C has no label.\n",
      " Volume Serial Number is 3620-D333\n",
      "\n",
      " Directory of C:\\Users\\sudipto\\JupyterNotebookFiles\\res\n",
      "\n",
      "06/30/2020  01:29 AM    <DIR>          .\n",
      "06/30/2020  01:29 AM    <DIR>          ..\n",
      "06/20/2020  02:07 PM               545 populations.txt\n",
      "06/20/2020  02:07 PM                81 states.txt\n",
      "06/30/2020  01:29 AM             1,223 Video_Store.csv\n",
      "               3 File(s)          1,849 bytes\n",
      "               2 Dir(s)  433,914,142,720 bytes free\n"
     ]
    }
   ],
   "source": [
    "\n"
   ]
  },
  {
   "cell_type": "code",
   "execution_count": null,
   "metadata": {},
   "outputs": [],
   "source": []
  }
 ],
 "metadata": {
  "kernelspec": {
   "display_name": "Python 3",
   "language": "python",
   "name": "python3"
  },
  "language_info": {
   "codemirror_mode": {
    "name": "ipython",
    "version": 3
   },
   "file_extension": ".py",
   "mimetype": "text/x-python",
   "name": "python",
   "nbconvert_exporter": "python",
   "pygments_lexer": "ipython3",
   "version": "3.8.3"
  }
 },
 "nbformat": 4,
 "nbformat_minor": 4
}
