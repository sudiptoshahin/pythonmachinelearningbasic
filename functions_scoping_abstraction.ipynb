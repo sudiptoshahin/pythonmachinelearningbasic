{
 "cells": [
  {
   "cell_type": "code",
   "execution_count": null,
   "metadata": {},
   "outputs": [],
   "source": [
    "\n",
    "\"\"\" ==== declearing a function =====\n",
    "def name of function (list of formal parameters):\n",
    "    body of function\n",
    "\"\"\"\n",
    "\n",
    "def max(x, y):\n",
    "    if x > y:\n",
    "        return x\n",
    "    else:\n",
    "        return y\n",
    "\n",
    "print(max(10, 10))\n"
   ]
  },
  {
   "cell_type": "code",
   "execution_count": null,
   "metadata": {},
   "outputs": [],
   "source": [
    "\n",
    "# Write a function isIn that accepts two strings as arguments\n",
    "# and returns True if either string occurs anywhere in the other, and False\n",
    "# otherwise. Hint: you might want to use the built-in str operation in .\n",
    "\n",
    "def isIn(a, b):\n",
    "    if(str(a) in str(b)):\n",
    "        return True\n",
    "    else:\n",
    "        return False\n",
    "\n",
    "isIn(\"ccc\", \"sudiptoshine\")"
   ]
  },
  {
   "cell_type": "code",
   "execution_count": null,
   "metadata": {},
   "outputs": [],
   "source": [
    "\n",
    "\n",
    "def printName(firstName, lastName, reverse):\n",
    "    if reverse:\n",
    "        print(lastName+\" \"+firstName)\n",
    "    else:\n",
    "        print(firstName+ \" \" +lastName)\n",
    "\n",
    "printName('Olga', 'Puchmajerova', False)\n",
    "printName('Olga', 'Puchmajerova', False)\n",
    "printName('Olga', 'Puchmajerova', reverse = False)\n",
    "printName('Olga', lastName = 'Puchmajerova', reverse = False)\n",
    "printName(lastName='Puchmajerova', firstName='Olga', reverse=False)"
   ]
  },
  {
   "cell_type": "code",
   "execution_count": null,
   "metadata": {},
   "outputs": [],
   "source": [
    "\n",
    "## recursive function\n",
    "\n",
    "def factI(n):\n",
    "    \"\"\" assumes that n is an int > 0\n",
    "        returns n!\n",
    "    \"\"\"\n",
    "    result = 1\n",
    "\n",
    "    while n > 1:\n",
    "        result = result * n\n",
    "        n -= 1\n",
    "    return result\n",
    "\n",
    "def factR(n):\n",
    "    \"\"\" assumes that n is an int > 0 and returns n! \"\"\"\n",
    "    if n == 1:\n",
    "        return n\n",
    "    else:\n",
    "        return n*factR(n - 1)\n",
    "    \n",
    "\n",
    "print(factI(4))\n",
    "print(factR(4))\n",
    "\n"
   ]
  },
  {
   "cell_type": "code",
   "execution_count": null,
   "metadata": {},
   "outputs": [],
   "source": [
    "\n",
    "## fibonacci \n",
    "\"\"\"assumes n is an int >= 0\"\"\"\n",
    "def fib(n):\n",
    "    \"\"\" assumes n an int >= 0\n",
    "    returns fibonacci of n \"\"\"\n",
    "    if n == 0 or n == 1:\n",
    "        return 1\n",
    "    elif n == 2:\n",
    "        countFib2 += 1\n",
    "    else:\n",
    "        return fib(n-1) + fib(n-2)\n",
    "    \n",
    "def testFib(n):\n",
    "    for i in range(n+1):\n",
    "        print(\"fib of \", i, \"=\", fib(i))\n",
    "\n",
    "testFib(5)\n",
    "print(countFib2)"
   ]
  },
  {
   "cell_type": "code",
   "execution_count": 6,
   "metadata": {},
   "outputs": [
    {
     "ename": "IndentationError",
     "evalue": "expected an indented block (<ipython-input-6-4324b4f30c0a>, line 5)",
     "output_type": "error",
     "traceback": [
      "\u001b[0;36m  File \u001b[0;32m\"<ipython-input-6-4324b4f30c0a>\"\u001b[0;36m, line \u001b[0;32m5\u001b[0m\n\u001b[0;31m    \"\"\"\u001b[0m\n\u001b[0m       \n^\u001b[0m\n\u001b[0;31mIndentationError\u001b[0m\u001b[0;31m:\u001b[0m expected an indented block\n"
     ]
    }
   ],
   "source": [
    "def isPalindrome(s):\n",
    "\"\"\"Assumes s is a str\n",
    "Returns True if the letters in s form a palindrome;\n",
    "False otherwise. Non-letters and capitalization are ignored.\n",
    "\"\"\"\n",
    "    def toChars(s):\n",
    "        s = s.lower()\n",
    "        letters = ''\n",
    "        for c in s:\n",
    "            if c in 'abcdefghijklmnopqrstuvwxyz':\n",
    "            letters = letters + c\n",
    "        return letters\n",
    "    def isPal(s):\n",
    "        if len(s) <= 1:\n",
    "            return True\n",
    "        else:\n",
    "            return s[0] == s[-1] and isPal(s[1:-1])\n",
    "    return isPal(toChars(s))\n",
    "\n",
    "print(isPalindrome(\"shinesudipto\"))"
   ]
  }
 ],
 "metadata": {
  "kernelspec": {
   "display_name": "Python 2",
   "language": "python",
   "name": "python2"
  },
  "language_info": {
   "codemirror_mode": {
    "name": "ipython",
    "version": 2
   },
   "file_extension": ".py",
   "mimetype": "text/x-python",
   "name": "python",
   "nbconvert_exporter": "python",
   "pygments_lexer": "ipython2",
   "version": "2.7.17"
  }
 },
 "nbformat": 4,
 "nbformat_minor": 2
}
