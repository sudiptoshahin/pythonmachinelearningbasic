{
 "cells": [
  {
   "cell_type": "code",
   "execution_count": 23,
   "metadata": {},
   "outputs": [],
   "source": [
    "import numpy as np"
   ]
  },
  {
   "cell_type": "code",
   "execution_count": 24,
   "metadata": {},
   "outputs": [
    {
     "name": "stdout",
     "output_type": "stream",
     "text": [
      "[[460]\n",
      " [232]\n",
      " [315]\n",
      " [178]]\n",
      "[[   1 2104    5    1   45]\n",
      " [   1 1416    3    2   40]\n",
      " [   1 1534    3    2   30]\n",
      " [   1  852    2    1   36]]\n",
      "\n",
      "\n",
      "\n",
      "[[   1    1    1    1]\n",
      " [2104 1416 1534  852]\n",
      " [   5    3    3    2]\n",
      " [   1    2    2    1]\n",
      " [  45   40   30   36]]\n"
     ]
    },
    {
     "data": {
      "text/plain": [
       "array([[-384.    ],\n",
       "       [   0.5625],\n",
       "       [ -96.    ],\n",
       "       [ -80.    ],\n",
       "       [  -4.    ]])"
      ]
     },
     "execution_count": 24,
     "metadata": {},
     "output_type": "execute_result"
    }
   ],
   "source": [
    "#inverse matrix\n",
    "x = np.array([[3, 4], [2, 16]])\n",
    "y = np.linalg.inv(x)\n",
    "\n",
    "\n",
    "#transpose of a matrix\n",
    "\n",
    "X = np.array([[1, 2104, 5, 1, 45], [1, 1416, 3, 2, 40], [1, 1534, 3, 2, 30], [1, 852, 2, 1, 36]])\n",
    "y = np.array([[460], [232], [315], [178]])\n",
    "print(y)\n",
    "print(X)\n",
    "print('\\n\\n')\n",
    "print(X.T)\n",
    "\n",
    "# matrix multiplication\n",
    "\n",
    "temp_theta1 = np.linalg.inv(np.dot((X.T), X))\n",
    "temp_theta2 = np.dot(X.T, y)\n",
    "theta = np.dot(temp_theta1, temp_theta2)\n",
    "\n",
    "theta"
   ]
  }
 ],
 "metadata": {
  "kernelspec": {
   "display_name": "Python 3",
   "language": "python",
   "name": "python3"
  },
  "language_info": {
   "codemirror_mode": {
    "name": "ipython",
    "version": 3
   },
   "file_extension": ".py",
   "mimetype": "text/x-python",
   "name": "python",
   "nbconvert_exporter": "python",
   "pygments_lexer": "ipython3",
   "version": "3.8.3"
  }
 },
 "nbformat": 4,
 "nbformat_minor": 4
}
