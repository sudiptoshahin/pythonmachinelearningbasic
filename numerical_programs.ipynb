{
 "cells": [
  {
   "cell_type": "code",
   "execution_count": null,
   "metadata": {},
   "outputs": [],
   "source": [
    "\n",
    "\"\"\" chapter 3\n",
    "NUMERICAL PROGRAM\n",
    " \"\"\"\n",
    " # find the cube root of a perfect cube\n",
    "# x = int(raw_input(\"Enter an integer\"))\n",
    "# ans = 0\n",
    "# while ans**3 < abs(x):\n",
    "#     ans = ans + 1\n",
    "# if ans**3 != abs(x):\n",
    "#     print(x, \" is not a perfect cube\")\n",
    "# else:\n",
    "#     if x < 0:\n",
    "#         ans = -ans\n",
    "#     print(\"Cube root of \", x ,\" is \", ans)\n",
    "\n",
    "\"\"\" changing the function\n",
    "\"\"\"\n",
    "    \n",
    "x = int(raw_input(\"Enter an integer\"))\n",
    "ans = 0\n",
    "\n",
    "# == comment start ==\n",
    "# he \\ at the end of the first\n",
    "# line of the print statement is used to indicate that the statement continues on\n",
    "# the next line.\n",
    "#\n",
    "# print 'Value of the decrementing function abs(x) - ans**3 is',\\\n",
    "# abs(x) - ans**3\n",
    "# comment out ans = ans\n",
    "# == comment ends ==\n",
    "\n",
    "# print('Value of the decrementing function abs(x) - ans**3 is',\n",
    "# abs(x) - ans**3)\n",
    "\n",
    "while abs(x) - ans**3:\n",
    "    ans = ans + 1\n",
    "#     ans = ans\n",
    "if ans**3 != abs(x):\n",
    "    print(x, \" is not a perfect cube\")\n",
    "else:\n",
    "    if x < 0:\n",
    "        ans = -ans\n",
    "    print(\"Cube root of \", x ,\" is \", ans)\n",
    "    \n",
    "\n",
    "# == comment start ==\n",
    "# The program would have run forever because the loop body is no longer\n",
    "# reducing the distance between ans**3 and abs(x) . When confronted with a\n",
    "# program that seems not to be terminating, experienced programmers often\n",
    "# insert print statements, such as the one here, to test whether the decrementing\n",
    "# function is indeed being decremented.\n",
    "# The algorithmic technique used in this program is a variant of guess and check\n",
    "# called exhaustive enumeration. We enumerate all possibilities until we get to\n",
    "# the right answer or exhaust the space of possibilities. At first blush, this may\n",
    "# seem like an incredibly stupid way to solve a problem. Surprisingly, however,\n",
    "# exhaustive enumeration algorithms are often the most practical way to solve a\n",
    "# problem.\n",
    "# == comment ends =="
   ]
  },
  {
   "cell_type": "code",
   "execution_count": null,
   "metadata": {},
   "outputs": [],
   "source": [
    "\"\"\"how large an integer you need to enter before there is a perceptible pause\n",
    "before the result is printed.\"\"\"\n",
    "\n",
    "max = int(raw_input(\"Enter a positive integer: \"))\n",
    "i = 0\n",
    "while i< max:\n",
    "    i = i + 1\n",
    "print i"
   ]
  },
  {
   "cell_type": "code",
   "execution_count": null,
   "metadata": {},
   "outputs": [],
   "source": [
    "\"\"\"\n",
    "Write a program that asks the user to enter an integer and\n",
    "prints two integers, root and pwr , such that 0 < pwr < 6 and root**pwr is equal\n",
    "to the integer entered by the user. If no such pair of integers exists, it should\n",
    "print a message to that effect\n",
    "\"\"\"\n",
    "\n",
    "n = int(raw_input('Enter an integer: '))\n",
    "pwr = 0\n",
    "while pwr > 0 and pwr < 6:\n",
    "    "
   ]
  },
  {
   "cell_type": "code",
   "execution_count": null,
   "metadata": {},
   "outputs": [],
   "source": [
    "\n",
    "# === FOR LOOP=====\n",
    "\n",
    "# x = 4\n",
    "# for i in range(0, x):\n",
    "#     print(i)\n",
    "\n",
    "# the value of x inside the loop affects\n",
    "# the number of iterations. It does not. The range function in the line with for is\n",
    "# evaluated just before the first iteration of the loop, and not reevaluated for\n",
    "# subsequent iterations.\n",
    "    \n",
    "x = 4\n",
    "for i in range(0, x):\n",
    "    print(i)\n",
    "    x = 5\n",
    "    \n",
    "x = 4\n",
    "for j in range(x):\n",
    "    for i in range(x):\n",
    "        print(i)\n",
    "        x = 2"
   ]
  },
  {
   "cell_type": "code",
   "execution_count": null,
   "metadata": {},
   "outputs": [],
   "source": [
    "\n",
    "## find the cube root of a perfect cube root\n",
    "x = int(raw_input('Enter an integer: '))\n",
    "\n",
    "for ans in range(0, abs(x)+1):\n",
    "    if ans**3 >= abs(x):\n",
    "        break\n",
    "if ans**3 != abs(x):\n",
    "    print(x, \" is not a perfect cube\")\n",
    "else:\n",
    "    if x < 0:\n",
    "        ans = -ans\n",
    "    print(\"Cube root of\", x, \"is\", ans)\n"
   ]
  },
  {
   "cell_type": "code",
   "execution_count": null,
   "metadata": {},
   "outputs": [],
   "source": [
    "total = 0\n",
    "for c in \"1234567\":\n",
    "    total = total + int(c)\n",
    "print(total)\n"
   ]
  },
  {
   "cell_type": "code",
   "execution_count": null,
   "metadata": {},
   "outputs": [],
   "source": [
    "# Let s be a string that contains a sequence of decimal numbers\n",
    "# separated by commas, e.g., s = '1.23,2.4,3.123' . Write a program that prints\n",
    "# the sum of the numbers in s .\n",
    "\n",
    "# s = \"1.23,5.57,4,5.12,3.123\"\n",
    "# sum = 0\n",
    "# for n in s:\n",
    "#     sum = sum + float(n)\n",
    "# print(sum)\n",
    "\n"
   ]
  },
  {
   "cell_type": "code",
   "execution_count": null,
   "metadata": {},
   "outputs": [],
   "source": [
    "\n",
    "\n",
    "# x = 25\n",
    "# epsilon = 0.01\n",
    "# step = epsilon**2\n",
    "# numGuesses = 0\n",
    "\n",
    "# ans = 0.0\n",
    "# while abs(ans**2 - x) >= epsilon and ans <= x:\n",
    "#     ans += step\n",
    "#     numGuesses += 1\n",
    "# print(\"numGuesses =\", numGuesses)\n",
    "\n",
    "# if abs(ans**2 - x) >= epsilon:\n",
    "#     print(\"Failed on square root of \", x)\n",
    "# else:\n",
    "#     print(ans, \" is close to square root of \", x)\n",
    "\n",
    "\n",
    "\"\"\" testing \"\"\"\n",
    "x = 123456\n",
    "epsilon = 0.01\n",
    "step = epsilon**3\n",
    "numOfGuesses = 0\n",
    "\n",
    "ans = 0.0\n",
    "while abs(ans**2 - x) >= epsilon and ans*ans <= x:\n",
    "    ans += step\n",
    "    numOfGuesses += 1\n",
    "print(\"numOfGuesses = \", numOfGuesses)\n",
    "\n",
    "if abs(ans**2 - x) >= epsilon:\n",
    "    print(\"Failed on square root of \", x)\n",
    "else:\n",
    "    print(ans, \" is close to square root of \", x)\n"
   ]
  },
  {
   "cell_type": "code",
   "execution_count": null,
   "metadata": {
    "scrolled": true
   },
   "outputs": [],
   "source": [
    "\n",
    "x = 25\n",
    "epsilon = 0.01\n",
    "numOfGuesses = 0\n",
    "low = 0.0\n",
    "high = max(1.0, x)\n",
    "\n",
    "ans = (high + low)/2.0\n",
    "while abs(ans**2 - x) >= epsilon:\n",
    "    print(\"low = \", low, \"high = \", high, \"ans = \", ans)\n",
    "    numOfGuesses += 1\n",
    "    if ans**2 < x:\n",
    "        low = ans\n",
    "    else:\n",
    "        high = ans\n",
    "    ans = (high+low) / 2\n",
    "print(\"numOfGuesses = \", numOfGuesses)\n",
    "print(ans, \" is close to square root of \", x)\n",
    "\n",
    "\n"
   ]
  },
  {
   "cell_type": "code",
   "execution_count": 1,
   "metadata": {},
   "outputs": [
    {
     "name": "stdout",
     "output_type": "stream",
     "text": [
      "(0.9999999999999999, ' is not 1.0')\n"
     ]
    }
   ],
   "source": [
    "# ---- floating numbers ------ #\n",
    "\n",
    "x = 0.0\n",
    "for i in range(10):\n",
    "    x = x + 0.1\n",
    "if x == 1.0:\n",
    "    print(x, \" = 1.0\")\n",
    "else:\n",
    "    print(x, \" is not 1.0\")\n"
   ]
  },
  {
   "cell_type": "code",
   "execution_count": 2,
   "metadata": {},
   "outputs": [
    {
     "name": "stdout",
     "output_type": "stream",
     "text": [
      "('Square root of', 24.0, 'is about', 4.8989887432139305)\n"
     ]
    }
   ],
   "source": [
    "\n",
    "# newton-rapshon for the square root\n",
    "# find x such that x**2-24 is  within epsilon of 0\n",
    "\n",
    "epsilon = 0.01\n",
    "k = 24.0\n",
    "guess = k/2.0\n",
    "\n",
    "while abs(guess*guess -k) >= epsilon:\n",
    "    guess = guess - (((guess**2) - k) / (2*guess))\n",
    "print(\"Square root of\", k, \"is about\", guess)\n",
    "\n",
    "\n"
   ]
  },
  {
   "cell_type": "code",
   "execution_count": 5,
   "metadata": {},
   "outputs": [
    {
     "name": "stdout",
     "output_type": "stream",
     "text": [
      "('numOfGuesses = ', 13)\n",
      "(5.00030517578125, 'is close enough to square root of', 25)\n"
     ]
    }
   ],
   "source": [
    "## bisection method for root finding\n",
    "\n",
    "x = 25\n",
    "epsilon = 0.01\n",
    "numOfGuesses = 0\n",
    "low = 0.0\n",
    "high = max(1.0, x)\n",
    "ans = (high + low) / 2.0\n",
    "\n",
    "while abs(ans**2 - x) >= epsilon:\n",
    "    numOfGuesses += 1\n",
    "    if ans**2 < x:\n",
    "        low = ans\n",
    "    else:\n",
    "        high = ans\n",
    "    ans = (high + low) / 2.0\n",
    "print(\"numOfGuesses = \", numOfGuesses)\n",
    "print(ans, \"is close enough to square root of\", x)\n",
    "\n"
   ]
  },
  {
   "cell_type": "code",
   "execution_count": null,
   "metadata": {},
   "outputs": [],
   "source": []
  }
 ],
 "metadata": {
  "kernelspec": {
   "display_name": "Python 2",
   "language": "python",
   "name": "python2"
  },
  "language_info": {
   "codemirror_mode": {
    "name": "ipython",
    "version": 2
   },
   "file_extension": ".py",
   "mimetype": "text/x-python",
   "name": "python",
   "nbconvert_exporter": "python",
   "pygments_lexer": "ipython2",
   "version": "2.7.17"
  }
 },
 "nbformat": 4,
 "nbformat_minor": 2
}
